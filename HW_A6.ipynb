{
 "cells": [
  {
   "cell_type": "code",
   "execution_count": 5,
   "id": "df1e94fd",
   "metadata": {},
   "outputs": [],
   "source": [
    "import numpy as np\n",
    "import scipy.stats as stats\n",
    "from math import *"
   ]
  },
  {
   "cell_type": "markdown",
   "id": "c0d05032",
   "metadata": {},
   "source": [
    "#### Задание 1<br>Известно, что генеральная совокупность распределена нормально со средним квадратическим отклонением, равным 16.\\Найти доверительный интервал для оценки математического ожидания a с надежностью 0.95, если выборочная средняя M = 80, а объем выборки n = 256."
   ]
  },
  {
   "cell_type": "markdown",
   "id": "73dfbc6a",
   "metadata": {},
   "source": [
    "$ \\bar X \\pm z_{\\alpha/2}\\cdot\\frac{\\sigma}{\\sqrt n}$<br>\n",
    "$Z_{\\alpha/2}$ по таблице = 1.96"
   ]
  },
  {
   "cell_type": "code",
   "execution_count": 3,
   "id": "a1abd6fb",
   "metadata": {
    "scrolled": false
   },
   "outputs": [
    {
     "name": "stdout",
     "output_type": "stream",
     "text": [
      "[78.04 : 81.96]\n"
     ]
    }
   ],
   "source": [
    "left=80-1.96*16/256**0.5\n",
    "right=80+1.96*16/256**0.5\n",
    "print(f'[{left} : {right}]')"
   ]
  },
  {
   "cell_type": "markdown",
   "id": "58dac69f",
   "metadata": {},
   "source": [
    "Ответ: Доверительный интервал равен [78.04 : 81.96]"
   ]
  },
  {
   "cell_type": "markdown",
   "id": "a915260d",
   "metadata": {},
   "source": [
    "#### Задание 2<br> В результате 10 независимых измерений некоторой величины X, выполненных с одинаковой точностью,  получены опытные данные: 6.9, 6.1, 6.2, 6.8, 7.5, 6.3, 6.4, 6.9, 6.7, 6.1  Предполагая, что результаты измерений подчинены нормальному закону распределения вероятностей, оценить истинное значение величины X  при помощи доверительного интервала, покрывающего это значение с доверительной вероятностью 0,95."
   ]
  },
  {
   "cell_type": "markdown",
   "id": "e610d3b2",
   "metadata": {},
   "source": [
    "$ \\displaystyle\\bar X \\pm t_{\\alpha/2}\\cdot\\frac{\\sigma}{\\sqrt n}$"
   ]
  },
  {
   "cell_type": "code",
   "execution_count": 13,
   "id": "be128ef2",
   "metadata": {},
   "outputs": [
    {
     "data": {
      "text/plain": [
       "(6.267515851415713, 6.912484148584288)"
      ]
     },
     "execution_count": 13,
     "metadata": {},
     "output_type": "execute_result"
    }
   ],
   "source": [
    "ar = np.array([6.9, 6.1, 6.2, 6.8, 7.5, 6.3, 6.4, 6.9, 6.7, 6.1])\n",
    "ta = stats.t.ppf(0.975, len(ar)-1) #t критерий для a/2\n",
    "sigma = np.std(ar, ddof=1) # сигма выборки\n",
    "x = ar.mean() # мат. ожидание\n",
    "left = x - ta*sigma/np.sqrt(len(ar))\n",
    "right = x + ta*sigma/np.sqrt(len(ar))\n",
    "left, right"
   ]
  },
  {
   "cell_type": "markdown",
   "id": "e885ac19",
   "metadata": {},
   "source": [
    "Ответ: истинное значение находится в доверительном интервале<br> [6.267515851415713 : 6.912484148584288]"
   ]
  },
  {
   "cell_type": "markdown",
   "id": "31a35d09",
   "metadata": {},
   "source": [
    "#### Задание 3<br>Рост дочерей 175, 167, 154, 174, 178, 148, 160, 167, 169, 170  Рост матерей 178, 165, 165, 173, 168, 155, 160, 164, 178, 175  Используя эти данные построить 95% доверительный интервал для разности среднего роста родителей и детей."
   ]
  },
  {
   "cell_type": "markdown",
   "id": "14b36abe",
   "metadata": {},
   "source": [
    "$\\bar{X}_1 - \\bar{X}_2 \\pm t_{\\alpha/2} \\sqrt{\\frac{s_1^2}{n_1} + \\frac{s_2^2}{n_2}}$"
   ]
  },
  {
   "cell_type": "code",
   "execution_count": 15,
   "id": "6a65ba64",
   "metadata": {
    "scrolled": true
   },
   "outputs": [
    {
     "data": {
      "text/plain": [
       "(-6.268418034506846, 10.068418034506857)"
      ]
     },
     "execution_count": 15,
     "metadata": {},
     "output_type": "execute_result"
    }
   ],
   "source": [
    "mot = np.array([178, 165, 165, 173, 168, 155, 160, 164, 178, 175])\n",
    "dau = np.array([175, 167, 154, 174, 178, 148, 160, 167, 169, 170])\n",
    "dif = mot.mean() - dau.mean() # разность средних\n",
    "se = np.sqrt(np.var(mot, ddof=1)/len(mot) + np.var(dau, ddof=1)/len(dau)) # Ошибка разности\n",
    "t = stats.t.ppf(0.975, len(mot) + len(dau) - 2) # t критерий \n",
    "left = dif - t * se\n",
    "right = dif + t * se\n",
    "left, right"
   ]
  },
  {
   "cell_type": "markdown",
   "id": "e41bf25a",
   "metadata": {},
   "source": [
    "Ответ: доверительный интервал для разности среднего роста родителей и детей<br> [-6.268418034506846, 10.068418034506857]"
   ]
  }
 ],
 "metadata": {
  "kernelspec": {
   "display_name": "Python 3 (ipykernel)",
   "language": "python",
   "name": "python3"
  },
  "language_info": {
   "codemirror_mode": {
    "name": "ipython",
    "version": 3
   },
   "file_extension": ".py",
   "mimetype": "text/x-python",
   "name": "python",
   "nbconvert_exporter": "python",
   "pygments_lexer": "ipython3",
   "version": "3.11.3"
  }
 },
 "nbformat": 4,
 "nbformat_minor": 5
}
